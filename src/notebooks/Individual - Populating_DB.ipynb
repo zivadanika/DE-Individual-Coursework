{
 "cells": [
  {
   "cell_type": "code",
   "execution_count": 1,
   "metadata": {},
   "outputs": [],
   "source": [
    "import os\n",
    "from pyspark.sql import SparkSession"
   ]
  },
  {
   "cell_type": "code",
   "execution_count": 2,
   "metadata": {},
   "outputs": [],
   "source": [
    "spark = SparkSession \\\n",
    "    .builder \\\n",
    "    .appName(\"PySpark App\") \\\n",
    "    .config(\"spark.jars\", \"/data/postgresql.jar\") \\\n",
    "    .getOrCreate()"
   ]
  },
  {
   "cell_type": "markdown",
   "metadata": {},
   "source": [
    "## Connect to Postgres & Read"
   ]
  },
  {
   "cell_type": "code",
   "execution_count": 3,
   "metadata": {},
   "outputs": [],
   "source": [
    "postgres_uri = \"jdbc:postgresql://database.cargnt6y2u5f.eu-west-2.rds.amazonaws.com/winedb\"\n",
    "user = \"postgres\"\n",
    "password = \"postgres\"\n",
    "dbtableWine = \"wine_database.wine\"\n",
    "dbtableGrape = \"wine_database.grapes\"\n",
    "dbtableWinery = \"wine_database.winery\"\n",
    "dbtablePrice = \"wine_database.price\""
   ]
  },
  {
   "cell_type": "code",
   "execution_count": 4,
   "metadata": {},
   "outputs": [
    {
     "name": "stdout",
     "output_type": "stream",
     "text": [
      "root\n",
      " |-- wine_id: integer (nullable = true)\n",
      " |-- name: string (nullable = true)\n",
      " |-- winery_id: string (nullable = true)\n",
      " |-- vintage: integer (nullable = true)\n",
      " |-- bottle_size: integer (nullable = true)\n",
      " |-- grapes: string (nullable = true)\n",
      " |-- rating: double (nullable = true)\n",
      "\n",
      "+---------+--------------------+---------+-------+-----------+--------+------+\n",
      "|  wine_id|                name|winery_id|vintage|bottle_size|  grapes|rating|\n",
      "+---------+--------------------+---------+-------+-----------+--------+------+\n",
      "|  1749808|Cristal Rosé Brut...|     ZMVL|   2012|        750|P737B5Y6|   4.6|\n",
      "|  2442059|Cristal Brut Cham...|     ZMVL|   2013|        750|P737B5Y6|   4.6|\n",
      "|  4051453|Cristal Brut Cham...|     ZMVL|   2014|        750|P737B5Y6|   4.6|\n",
      "|163946037|  Puligny-Montrachet|     A7AV|   2020|        750|P737B5Y6|   4.2|\n",
      "|156134190|Brut Champagne (V...|     ZMVL|   2013|        750|P737B5Y6|   4.3|\n",
      "| 21161696|Rosé Brut Champag...|     ZMVL|   2015|        750|P737B5Y6|   4.3|\n",
      "|144987533|Seigneur de Maugi...|     3IOH|   2016|        750|    null|   4.2|\n",
      "| 16959232|Cuvée Christine G...|     IL20|   2015|        375|    null|   4.2|\n",
      "|165481531|Puligny-Montrache...|     U1IT|   2019|        750|P737B5Y6|   4.2|\n",
      "|  6544394|Rosé Brut Champag...|     ZMVL|   2014|        750|P737B5Y6|   4.3|\n",
      "| 21322782|Margaux (Grand Cr...|     KH3V|   2015|        750|    null|   4.2|\n",
      "|156790352|Brut Champagne (V...|     ZMVL|   2014|        750|P737B5Y6|   4.3|\n",
      "|  4671336|Hermitage La Peti...|     DJP2|   2012|        750|    null|   4.3|\n",
      "|121906870|Saint-Julien (Gra...|     MOLA|   2016|        750|    null|   4.3|\n",
      "|160174498|Condrieu La Petit...|     P737|   2019|        750|U1ITKH3V|   4.2|\n",
      "|143068453|             Pomerol|     B5Y6|   2016|        750|    null|   4.2|\n",
      "|163467462|Clos Mireille Ros...|     Y46E|   2020|        750|    null|   4.2|\n",
      "|141431537|Château Corton Gr...|     A7AV|   2016|        750|    null|   4.3|\n",
      "|162877288|Grand Régnard Cha...|     5JYA|   2020|        750|P737B5Y6|   4.3|\n",
      "|113320346|Hermitage La Chap...|     DJP2|   2016|        750|    null|   4.3|\n",
      "+---------+--------------------+---------+-------+-----------+--------+------+\n",
      "only showing top 20 rows\n",
      "\n"
     ]
    }
   ],
   "source": [
    "db_wine = spark.read \\\n",
    "    .format(\"jdbc\") \\\n",
    "    .option(\"url\", postgres_uri) \\\n",
    "    .option(\"dbtable\", dbtableWine) \\\n",
    "    .option(\"user\", user) \\\n",
    "    .option(\"password\", password) \\\n",
    "    .option(\"driver\", \"org.postgresql.Driver\") \\\n",
    "    .load()\n",
    "\n",
    "db_wine.printSchema()\n",
    "db_wine.show()"
   ]
  },
  {
   "cell_type": "markdown",
   "metadata": {},
   "source": [
    "## Populating"
   ]
  },
  {
   "cell_type": "code",
   "execution_count": 15,
   "metadata": {},
   "outputs": [
    {
     "name": "stdout",
     "output_type": "stream",
     "text": [
      "+---------+--------------------+---------+--------------------+-------+-----------+-----------------+--------+--------------+---------------+--------------+------------------+--------------------+------+--------+\n",
      "|       id|              winery|winery_id|                wine|vintage|bottle_size|            price|discount|general_grapes|specific_grapes|general_region|       wine_region|        type_of_wine|rating|grape_id|\n",
      "+---------+--------------------+---------+--------------------+-------+-----------+-----------------+--------+--------------+---------------+--------------+------------------+--------------------+------+--------+\n",
      "|  1749808|Champagne Roedere...|     ZMVL|Cristal Rosé Brut...|   2012|        750|585.6632691195389|     0.0|          null|     Chardonnay|        French|         Champagne|           Champagne|   4.6|P737B5Y6|\n",
      "|  2442059|Champagne Roedere...|     ZMVL|Cristal Brut Cham...|   2013|        750| 645.520637306105|     0.0|          null|     Chardonnay|        French|         Champagne|           Champagne|   4.6|P737B5Y6|\n",
      "|  4051453|Champagne Roedere...|     ZMVL|Cristal Brut Cham...|   2014|        750|268.7713198965419|     0.0|          null|     Chardonnay|        French|         Champagne|           Champagne|   4.6|P737B5Y6|\n",
      "|163946037| Maison Louis Latour|     A7AV|  Puligny-Montrachet|   2020|        750|64.54032699175039|     0.0|          null|     Chardonnay|      Burgundy|Puligny-Montrachet|Côte de Beaune White|   4.2|P737B5Y6|\n",
      "|156134190|Champagne Roedere...|     ZMVL|Brut Champagne (V...|   2013|        750|80.97176139590579|     0.0|          null|     Chardonnay|        French|         Champagne|           Champagne|   4.3|P737B5Y6|\n",
      "+---------+--------------------+---------+--------------------+-------+-----------+-----------------+--------+--------------+---------------+--------------+------------------+--------------------+------+--------+\n",
      "only showing top 5 rows\n",
      "\n"
     ]
    }
   ],
   "source": [
    "vivino = spark.read.parquet(\"/data/src/parquet/vivino_new.parquet\", encoding=\"UTF-8\")\n",
    "vivino.show(5)"
   ]
  },
  {
   "cell_type": "code",
   "execution_count": 16,
   "metadata": {},
   "outputs": [
    {
     "name": "stdout",
     "output_type": "stream",
     "text": [
      "+--------+----------+--------------------+--------------------+--------------------+-----------+---------------+------+------+\n",
      "|grape_id|     grape|     primary_flavors|       taste_profile|        food_pairing|temperature|     glass_type|decant|cellar|\n",
      "+--------+----------+--------------------+--------------------+--------------------+-----------+---------------+------+------+\n",
      "|ZMVLA7AV|  Grenache|[Stewed Strawberr...|[Dry, Medium-full...|[The high intensi...|    15-20°C|      Universal|    30|  10+ |\n",
      "|3IOHIL20|     Syrah|[Blueberry, Black...|[Dry, Full Body, ...|[Darker meats and...|    15-20°C|      Universal|    60|  10+ |\n",
      "|U1ITKH3V|  Viognier|[Tangerine, Peach...|[Dry, Medium Body...|[A wine best pair...|     7-12°C|          White|     0|  3–5 |\n",
      "|DJP2MOLA|  Cabernet|[Strawberry, Rasp...|[Dry, Medium Body...|[Higher acidity m...|    15-20°C|      Universal|    30| 5–10 |\n",
      "|P737B5Y6|Chardonnay|[Yellow Apple, St...|[Dry, Medium Body...|[Chardonnay wine ...|     7-12°C|Aroma Collector|     0| 5–10 |\n",
      "|Y46E5JYA|     Gamay|[Pomegranate, Bla...|[Dry, Medium-ligh...|[One of just a fe...|    12-15°C|Aroma Collector|    30|  3–5 |\n",
      "|II1TBIG9| Sauvignon|[Gooseberry, Hone...|[Dry, Medium-ligh...|[When in doubt, g...|     7-12°C|          White|     0|  3–5 |\n",
      "|7FYSVN1X|     Pinot|[Cherry, Raspberr...|[Dry, Medium Body...|[A very versatile...|    12-15°C|Aroma Collector|    30|  10+ |\n",
      "|6B3WUYKW|    Chenin|[Quince, Yellow A...|[Dry, Medium-ligh...|[Given the wide r...|     7-12°C|          White|     0| 5–10 |\n",
      "|T17V04CT|  Riesling|[Lime, Green Appl...|[Off-dry, Light B...|[Off-dry Riesling...|      3-7°C|          White|     0|  10+ |\n",
      "|1O0WCDUP| Roussanne|[Meyer Lemon, Apr...|[Dry, Medium Body...|[Producers of Rou...|     7-12°C|Aroma Collector|     0| 5–10 |\n",
      "+--------+----------+--------------------+--------------------+--------------------+-----------+---------------+------+------+\n",
      "\n"
     ]
    }
   ],
   "source": [
    "grape = spark.read.parquet(\"/data/src/parquet/grapes_new.parquet\", encoding=\"UTF-8\")\n",
    "grape.show()"
   ]
  },
  {
   "cell_type": "code",
   "execution_count": 17,
   "metadata": {},
   "outputs": [
    {
     "name": "stdout",
     "output_type": "stream",
     "text": [
      "+----+-------------------+-------------------+--------------------+--------+-------+---------------+--------------------+--------------------+\n",
      "|  id|        winery_name|             winery|             address|    city|country|year_foundation|    corporation_type|            activity|\n",
      "+----+-------------------+-------------------+--------------------+--------+-------+---------------+--------------------+--------------------+\n",
      "|3IOH|           Le Delas|           LE DELAS|1 Avenue De Norma...|   Cedex| France|           1969|Siège social – Ma...|           Grossiste|\n",
      "|OB14|      Château Tayac|      CHÂTEAU TAYAC|              Tayac,|Soussans| France|           1930|Siège social – Ma...|Fabricant/ Produc...|\n",
      "|A7AV|Maison Louis Latour|MAISON LOUIS LATOUR|18 Rue Des Tonnel...|  Beaune| France|           1945|                 NaN|Fabricant/ Produc...|\n",
      "+----+-------------------+-------------------+--------------------+--------+-------+---------------+--------------------+--------------------+\n",
      "only showing top 3 rows\n",
      "\n"
     ]
    }
   ],
   "source": [
    "winery = spark.read.parquet(\"/data/src/parquet/winery_new.parquet\", encoding = \"UTF-8\")\n",
    "winery.show(3)"
   ]
  },
  {
   "cell_type": "markdown",
   "metadata": {},
   "source": [
    "## Write"
   ]
  },
  {
   "cell_type": "markdown",
   "metadata": {},
   "source": [
    "### table: winery"
   ]
  },
  {
   "cell_type": "code",
   "execution_count": 18,
   "metadata": {},
   "outputs": [
    {
     "name": "stdout",
     "output_type": "stream",
     "text": [
      "+---------+-------------------+-------------------+--------------------+--------+-------+------------------+\n",
      "|winery_id|        winery_name|       company_name|             address|    city|country|year_of_foundation|\n",
      "+---------+-------------------+-------------------+--------------------+--------+-------+------------------+\n",
      "|     3IOH|           Le Delas|           LE DELAS|1 Avenue De Norma...|   Cedex| France|              1969|\n",
      "|     OB14|      Château Tayac|      CHÂTEAU TAYAC|              Tayac,|Soussans| France|              1930|\n",
      "|     A7AV|Maison Louis Latour|MAISON LOUIS LATOUR|18 Rue Des Tonnel...|  Beaune| France|              1945|\n",
      "+---------+-------------------+-------------------+--------------------+--------+-------+------------------+\n",
      "only showing top 3 rows\n",
      "\n"
     ]
    }
   ],
   "source": [
    "df_winery = winery.selectExpr(\"id as winery_id\",\"winery_name as winery_name\",\"winery as company_name\",\"address as address\",\"city as city\",\"country as country\", \"year_foundation as year_of_foundation\")\n",
    "df_winery.show(3)"
   ]
  },
  {
   "cell_type": "code",
   "execution_count": 19,
   "metadata": {},
   "outputs": [],
   "source": [
    "df_winery.select(\"winery_id\",\"winery_name\",\"company_name\",\"address\",\"city\",\"country\",\"year_of_foundation\").write.format(\"jdbc\") \\\n",
    "    .option(\"url\", postgres_uri) \\\n",
    "    .option(\"driver\", \"org.postgresql.Driver\") \\\n",
    "    .option(\"dbtable\", 'wine_database.winery') \\\n",
    "    .option(\"user\", user) \\\n",
    "    .mode(\"append\") \\\n",
    "    .option(\"password\", password).save()"
   ]
  },
  {
   "cell_type": "code",
   "execution_count": 20,
   "metadata": {},
   "outputs": [
    {
     "name": "stdout",
     "output_type": "stream",
     "text": [
      "+---------+-------------------+-------------------+--------------------+--------+-------+------------------+\n",
      "|winery_id|        winery_name|       company_name|             address|    city|country|year_of_foundation|\n",
      "+---------+-------------------+-------------------+--------------------+--------+-------+------------------+\n",
      "|     3IOH|           Le Delas|           LE DELAS|1 Avenue De Norma...|   Cedex| France|              1969|\n",
      "|     OB14|      Château Tayac|      CHÂTEAU TAYAC|              Tayac,|Soussans| France|              1930|\n",
      "|     A7AV|Maison Louis Latour|MAISON LOUIS LATOUR|18 Rue Des Tonnel...|  Beaune| France|              1945|\n",
      "+---------+-------------------+-------------------+--------------------+--------+-------+------------------+\n",
      "only showing top 3 rows\n",
      "\n"
     ]
    }
   ],
   "source": [
    "winery = spark.read \\\n",
    "    .format(\"jdbc\") \\\n",
    "    .option(\"url\", postgres_uri) \\\n",
    "    .option(\"dbtable\", \"wine_database.winery\") \\\n",
    "    .option(\"user\", user) \\\n",
    "    .option(\"password\", password) \\\n",
    "    .option(\"driver\", \"org.postgresql.Driver\") \\\n",
    "    .load()\n",
    "\n",
    "winery.show(3)"
   ]
  },
  {
   "cell_type": "markdown",
   "metadata": {},
   "source": [
    "### table: grapes"
   ]
  },
  {
   "cell_type": "code",
   "execution_count": 21,
   "metadata": {},
   "outputs": [],
   "source": [
    "grape.select(\"grape_id\",\"grape\",\"primary_flavors\",\"taste_profile\",\"food_pairing\",\"temperature\",\"glass_type\",\"decant\",\"cellar\").write.format(\"jdbc\") \\\n",
    "    .option(\"url\", postgres_uri) \\\n",
    "    .option(\"driver\", \"org.postgresql.Driver\") \\\n",
    "    .option(\"dbtable\", 'wine_database.grapes') \\\n",
    "    .option(\"user\", user) \\\n",
    "    .mode(\"append\") \\\n",
    "    .option(\"password\", password).save()"
   ]
  },
  {
   "cell_type": "code",
   "execution_count": 22,
   "metadata": {},
   "outputs": [
    {
     "name": "stdout",
     "output_type": "stream",
     "text": [
      "+--------+--------+--------------------+--------------------+--------------------+-----------+----------+------+------+\n",
      "|grape_id|   grape|     primary_flavors|       taste_profile|        food_pairing|temperature|glass_type|decant|cellar|\n",
      "+--------+--------+--------------------+--------------------+--------------------+-----------+----------+------+------+\n",
      "|ZMVLA7AV|Grenache|{\"Stewed Strawber...|{Dry,\"Medium-full...|{\"The high intens...|    15-20°C| Universal|    30|  10+ |\n",
      "|3IOHIL20|   Syrah|{Blueberry,\"Black...|{Dry,\"Full Body\",...|{\"Darker meats an...|    15-20°C| Universal|    60|  10+ |\n",
      "|U1ITKH3V|Viognier|{Tangerine,Peach,...|{Dry,\"Medium Body...|{\"A wine best pai...|     7-12°C|     White|     0|  3–5 |\n",
      "+--------+--------+--------------------+--------------------+--------------------+-----------+----------+------+------+\n",
      "only showing top 3 rows\n",
      "\n"
     ]
    }
   ],
   "source": [
    "grapes = spark.read \\\n",
    "    .format(\"jdbc\") \\\n",
    "    .option(\"url\", postgres_uri) \\\n",
    "    .option(\"dbtable\", \"wine_database.grapes\") \\\n",
    "    .option(\"user\", user) \\\n",
    "    .option(\"password\", password) \\\n",
    "    .option(\"driver\", \"org.postgresql.Driver\") \\\n",
    "    .load()\n",
    "\n",
    "grapes.show(3)"
   ]
  },
  {
   "cell_type": "markdown",
   "metadata": {},
   "source": [
    "### table: wine"
   ]
  },
  {
   "cell_type": "code",
   "execution_count": 23,
   "metadata": {},
   "outputs": [
    {
     "name": "stdout",
     "output_type": "stream",
     "text": [
      "+-------+--------------------+---------+-------+-----------+--------+------+\n",
      "|wine_id|                name|winery_id|vintage|bottle_size|  grapes|rating|\n",
      "+-------+--------------------+---------+-------+-----------+--------+------+\n",
      "|1749808|Cristal Rosé Brut...|     ZMVL|   2012|        750|P737B5Y6|   4.6|\n",
      "|2442059|Cristal Brut Cham...|     ZMVL|   2013|        750|P737B5Y6|   4.6|\n",
      "|4051453|Cristal Brut Cham...|     ZMVL|   2014|        750|P737B5Y6|   4.6|\n",
      "+-------+--------------------+---------+-------+-----------+--------+------+\n",
      "only showing top 3 rows\n",
      "\n"
     ]
    }
   ],
   "source": [
    "df_wine = vivino.selectExpr(\"id as wine_id\",\"wine as name\",\"winery_id as winery_id\",\"vintage as vintage\",\"bottle_size as bottle_size\",\"grape_id as grapes\", \"rating as rating\")\n",
    "df_wine.show(3)"
   ]
  },
  {
   "cell_type": "code",
   "execution_count": 24,
   "metadata": {},
   "outputs": [],
   "source": [
    "df_wine.select(\"wine_id\",\"name\",\"winery_id\",\"vintage\",\"bottle_size\",\"grapes\",\"rating\").write.format(\"jdbc\") \\\n",
    "    .option(\"url\", postgres_uri) \\\n",
    "    .option(\"driver\", \"org.postgresql.Driver\") \\\n",
    "    .option(\"dbtable\", 'wine_database.wine') \\\n",
    "    .option(\"user\", user) \\\n",
    "    .mode(\"append\") \\\n",
    "    .option(\"password\", password).save()"
   ]
  },
  {
   "cell_type": "code",
   "execution_count": 25,
   "metadata": {},
   "outputs": [
    {
     "name": "stdout",
     "output_type": "stream",
     "text": [
      "+-------+--------------------+---------+-------+-----------+--------+------+\n",
      "|wine_id|                name|winery_id|vintage|bottle_size|  grapes|rating|\n",
      "+-------+--------------------+---------+-------+-----------+--------+------+\n",
      "|1749808|Cristal Rosé Brut...|     ZMVL|   2012|        750|P737B5Y6|   4.6|\n",
      "|2442059|Cristal Brut Cham...|     ZMVL|   2013|        750|P737B5Y6|   4.6|\n",
      "|4051453|Cristal Brut Cham...|     ZMVL|   2014|        750|P737B5Y6|   4.6|\n",
      "+-------+--------------------+---------+-------+-----------+--------+------+\n",
      "only showing top 3 rows\n",
      "\n"
     ]
    }
   ],
   "source": [
    "wine = spark.read \\\n",
    "    .format(\"jdbc\") \\\n",
    "    .option(\"url\", postgres_uri) \\\n",
    "    .option(\"dbtable\", \"wine_database.wine\") \\\n",
    "    .option(\"user\", user) \\\n",
    "    .option(\"password\", password) \\\n",
    "    .option(\"driver\", \"org.postgresql.Driver\") \\\n",
    "    .load()\n",
    "\n",
    "wine.show(3)"
   ]
  },
  {
   "cell_type": "markdown",
   "metadata": {},
   "source": [
    "### table: price"
   ]
  },
  {
   "cell_type": "code",
   "execution_count": 26,
   "metadata": {},
   "outputs": [
    {
     "name": "stdout",
     "output_type": "stream",
     "text": [
      "+-------+--------------------+-----------------+--------+\n",
      "|wine_id|                name|            price|discount|\n",
      "+-------+--------------------+-----------------+--------+\n",
      "|1749808|Cristal Rosé Brut...|585.6632691195389|     0.0|\n",
      "|2442059|Cristal Brut Cham...| 645.520637306105|     0.0|\n",
      "|4051453|Cristal Brut Cham...|268.7713198965419|     0.0|\n",
      "+-------+--------------------+-----------------+--------+\n",
      "only showing top 3 rows\n",
      "\n"
     ]
    }
   ],
   "source": [
    "df_price = vivino.selectExpr(\"id as wine_id\",\"wine as name\",\"price as price\",\"discount as discount\")\n",
    "df_price.show(3)"
   ]
  },
  {
   "cell_type": "code",
   "execution_count": 27,
   "metadata": {},
   "outputs": [],
   "source": [
    "df_price.select(\"wine_id\",\"name\",\"price\",\"discount\").write.format(\"jdbc\") \\\n",
    "    .option(\"url\", postgres_uri) \\\n",
    "    .option(\"driver\", \"org.postgresql.Driver\") \\\n",
    "    .option(\"dbtable\", 'wine_database.price') \\\n",
    "    .option(\"user\", user) \\\n",
    "    .mode(\"append\") \\\n",
    "    .option(\"password\", password).save()"
   ]
  },
  {
   "cell_type": "code",
   "execution_count": 28,
   "metadata": {},
   "outputs": [
    {
     "name": "stdout",
     "output_type": "stream",
     "text": [
      "+-------+--------------------+-----------------+--------+\n",
      "|wine_id|                name|            price|discount|\n",
      "+-------+--------------------+-----------------+--------+\n",
      "|1749808|Cristal Rosé Brut...|585.6632691195389|     0.0|\n",
      "|2442059|Cristal Brut Cham...| 645.520637306105|     0.0|\n",
      "|4051453|Cristal Brut Cham...|268.7713198965419|     0.0|\n",
      "+-------+--------------------+-----------------+--------+\n",
      "only showing top 3 rows\n",
      "\n"
     ]
    }
   ],
   "source": [
    "price = spark.read \\\n",
    "    .format(\"jdbc\") \\\n",
    "    .option(\"url\", postgres_uri) \\\n",
    "    .option(\"dbtable\", \"wine_database.price\") \\\n",
    "    .option(\"user\", user) \\\n",
    "    .option(\"password\", password) \\\n",
    "    .option(\"driver\", \"org.postgresql.Driver\") \\\n",
    "    .load()\n",
    "\n",
    "price.show(3)"
   ]
  },
  {
   "cell_type": "code",
   "execution_count": null,
   "metadata": {},
   "outputs": [],
   "source": []
  }
 ],
 "metadata": {
  "kernelspec": {
   "display_name": "Python 3 (ipykernel)",
   "language": "python",
   "name": "python3"
  },
  "language_info": {
   "codemirror_mode": {
    "name": "ipython",
    "version": 3
   },
   "file_extension": ".py",
   "mimetype": "text/x-python",
   "name": "python",
   "nbconvert_exporter": "python",
   "pygments_lexer": "ipython3",
   "version": "3.9.10"
  }
 },
 "nbformat": 4,
 "nbformat_minor": 4
}
